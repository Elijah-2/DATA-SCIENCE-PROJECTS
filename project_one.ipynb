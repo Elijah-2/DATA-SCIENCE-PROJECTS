{
 "cells": [
  {
   "cell_type": "code",
   "execution_count": 1,
   "id": "3c95b018-7add-4d13-97c1-cf5984c8f92b",
   "metadata": {},
   "outputs": [],
   "source": [
    "import pandas as pd\n",
    "import numpy as np"
   ]
  },
  {
   "cell_type": "code",
   "execution_count": 3,
   "id": "f7a540ae-9247-4a07-a14a-98d433390a19",
   "metadata": {},
   "outputs": [],
   "source": [
    "data = pd.read_csv(\"C:\\\\Users\\\\ELIJAH ONYANGO\\\\Downloads\\\\shopping_trends.csv\")"
   ]
  },
  {
   "cell_type": "code",
   "execution_count": 5,
   "id": "199ce6b8-342b-43f6-9e91-f47be956383a",
   "metadata": {},
   "outputs": [
    {
     "data": {
      "text/html": [
       "<div>\n",
       "<style scoped>\n",
       "    .dataframe tbody tr th:only-of-type {\n",
       "        vertical-align: middle;\n",
       "    }\n",
       "\n",
       "    .dataframe tbody tr th {\n",
       "        vertical-align: top;\n",
       "    }\n",
       "\n",
       "    .dataframe thead th {\n",
       "        text-align: right;\n",
       "    }\n",
       "</style>\n",
       "<table border=\"1\" class=\"dataframe\">\n",
       "  <thead>\n",
       "    <tr style=\"text-align: right;\">\n",
       "      <th></th>\n",
       "      <th>Customer ID</th>\n",
       "      <th>Age</th>\n",
       "      <th>Gender</th>\n",
       "      <th>Item Purchased</th>\n",
       "      <th>Category</th>\n",
       "      <th>Purchase Amount (USD)</th>\n",
       "      <th>Location</th>\n",
       "      <th>Size</th>\n",
       "      <th>Color</th>\n",
       "      <th>Season</th>\n",
       "      <th>Review Rating</th>\n",
       "      <th>Subscription Status</th>\n",
       "      <th>Payment Method</th>\n",
       "      <th>Shipping Type</th>\n",
       "      <th>Discount Applied</th>\n",
       "      <th>Promo Code Used</th>\n",
       "      <th>Previous Purchases</th>\n",
       "      <th>Preferred Payment Method</th>\n",
       "      <th>Frequency of Purchases</th>\n",
       "    </tr>\n",
       "  </thead>\n",
       "  <tbody>\n",
       "    <tr>\n",
       "      <th>0</th>\n",
       "      <td>1</td>\n",
       "      <td>55</td>\n",
       "      <td>Male</td>\n",
       "      <td>Blouse</td>\n",
       "      <td>Clothing</td>\n",
       "      <td>53</td>\n",
       "      <td>Kentucky</td>\n",
       "      <td>L</td>\n",
       "      <td>Gray</td>\n",
       "      <td>Winter</td>\n",
       "      <td>3.1</td>\n",
       "      <td>Yes</td>\n",
       "      <td>Credit Card</td>\n",
       "      <td>Express</td>\n",
       "      <td>Yes</td>\n",
       "      <td>Yes</td>\n",
       "      <td>14</td>\n",
       "      <td>Venmo</td>\n",
       "      <td>Fortnightly</td>\n",
       "    </tr>\n",
       "    <tr>\n",
       "      <th>1</th>\n",
       "      <td>2</td>\n",
       "      <td>19</td>\n",
       "      <td>Male</td>\n",
       "      <td>Sweater</td>\n",
       "      <td>Clothing</td>\n",
       "      <td>64</td>\n",
       "      <td>Maine</td>\n",
       "      <td>L</td>\n",
       "      <td>Maroon</td>\n",
       "      <td>Winter</td>\n",
       "      <td>3.1</td>\n",
       "      <td>Yes</td>\n",
       "      <td>Bank Transfer</td>\n",
       "      <td>Express</td>\n",
       "      <td>Yes</td>\n",
       "      <td>Yes</td>\n",
       "      <td>2</td>\n",
       "      <td>Cash</td>\n",
       "      <td>Fortnightly</td>\n",
       "    </tr>\n",
       "    <tr>\n",
       "      <th>2</th>\n",
       "      <td>3</td>\n",
       "      <td>50</td>\n",
       "      <td>Male</td>\n",
       "      <td>Jeans</td>\n",
       "      <td>Clothing</td>\n",
       "      <td>73</td>\n",
       "      <td>Massachusetts</td>\n",
       "      <td>S</td>\n",
       "      <td>Maroon</td>\n",
       "      <td>Spring</td>\n",
       "      <td>3.1</td>\n",
       "      <td>Yes</td>\n",
       "      <td>Cash</td>\n",
       "      <td>Free Shipping</td>\n",
       "      <td>Yes</td>\n",
       "      <td>Yes</td>\n",
       "      <td>23</td>\n",
       "      <td>Credit Card</td>\n",
       "      <td>Weekly</td>\n",
       "    </tr>\n",
       "    <tr>\n",
       "      <th>3</th>\n",
       "      <td>4</td>\n",
       "      <td>21</td>\n",
       "      <td>Male</td>\n",
       "      <td>Sandals</td>\n",
       "      <td>Footwear</td>\n",
       "      <td>90</td>\n",
       "      <td>Rhode Island</td>\n",
       "      <td>M</td>\n",
       "      <td>Maroon</td>\n",
       "      <td>Spring</td>\n",
       "      <td>3.5</td>\n",
       "      <td>Yes</td>\n",
       "      <td>PayPal</td>\n",
       "      <td>Next Day Air</td>\n",
       "      <td>Yes</td>\n",
       "      <td>Yes</td>\n",
       "      <td>49</td>\n",
       "      <td>PayPal</td>\n",
       "      <td>Weekly</td>\n",
       "    </tr>\n",
       "    <tr>\n",
       "      <th>4</th>\n",
       "      <td>5</td>\n",
       "      <td>45</td>\n",
       "      <td>Male</td>\n",
       "      <td>Blouse</td>\n",
       "      <td>Clothing</td>\n",
       "      <td>49</td>\n",
       "      <td>Oregon</td>\n",
       "      <td>M</td>\n",
       "      <td>Turquoise</td>\n",
       "      <td>Spring</td>\n",
       "      <td>2.7</td>\n",
       "      <td>Yes</td>\n",
       "      <td>Cash</td>\n",
       "      <td>Free Shipping</td>\n",
       "      <td>Yes</td>\n",
       "      <td>Yes</td>\n",
       "      <td>31</td>\n",
       "      <td>PayPal</td>\n",
       "      <td>Annually</td>\n",
       "    </tr>\n",
       "    <tr>\n",
       "      <th>...</th>\n",
       "      <td>...</td>\n",
       "      <td>...</td>\n",
       "      <td>...</td>\n",
       "      <td>...</td>\n",
       "      <td>...</td>\n",
       "      <td>...</td>\n",
       "      <td>...</td>\n",
       "      <td>...</td>\n",
       "      <td>...</td>\n",
       "      <td>...</td>\n",
       "      <td>...</td>\n",
       "      <td>...</td>\n",
       "      <td>...</td>\n",
       "      <td>...</td>\n",
       "      <td>...</td>\n",
       "      <td>...</td>\n",
       "      <td>...</td>\n",
       "      <td>...</td>\n",
       "      <td>...</td>\n",
       "    </tr>\n",
       "    <tr>\n",
       "      <th>3895</th>\n",
       "      <td>3896</td>\n",
       "      <td>40</td>\n",
       "      <td>Female</td>\n",
       "      <td>Hoodie</td>\n",
       "      <td>Clothing</td>\n",
       "      <td>28</td>\n",
       "      <td>Virginia</td>\n",
       "      <td>L</td>\n",
       "      <td>Turquoise</td>\n",
       "      <td>Summer</td>\n",
       "      <td>4.2</td>\n",
       "      <td>No</td>\n",
       "      <td>Cash</td>\n",
       "      <td>2-Day Shipping</td>\n",
       "      <td>No</td>\n",
       "      <td>No</td>\n",
       "      <td>32</td>\n",
       "      <td>Venmo</td>\n",
       "      <td>Weekly</td>\n",
       "    </tr>\n",
       "    <tr>\n",
       "      <th>3896</th>\n",
       "      <td>3897</td>\n",
       "      <td>52</td>\n",
       "      <td>Female</td>\n",
       "      <td>Backpack</td>\n",
       "      <td>Accessories</td>\n",
       "      <td>49</td>\n",
       "      <td>Iowa</td>\n",
       "      <td>L</td>\n",
       "      <td>White</td>\n",
       "      <td>Spring</td>\n",
       "      <td>4.5</td>\n",
       "      <td>No</td>\n",
       "      <td>PayPal</td>\n",
       "      <td>Store Pickup</td>\n",
       "      <td>No</td>\n",
       "      <td>No</td>\n",
       "      <td>41</td>\n",
       "      <td>Bank Transfer</td>\n",
       "      <td>Bi-Weekly</td>\n",
       "    </tr>\n",
       "    <tr>\n",
       "      <th>3897</th>\n",
       "      <td>3898</td>\n",
       "      <td>46</td>\n",
       "      <td>Female</td>\n",
       "      <td>Belt</td>\n",
       "      <td>Accessories</td>\n",
       "      <td>33</td>\n",
       "      <td>New Jersey</td>\n",
       "      <td>L</td>\n",
       "      <td>Green</td>\n",
       "      <td>Spring</td>\n",
       "      <td>2.9</td>\n",
       "      <td>No</td>\n",
       "      <td>Credit Card</td>\n",
       "      <td>Standard</td>\n",
       "      <td>No</td>\n",
       "      <td>No</td>\n",
       "      <td>24</td>\n",
       "      <td>Venmo</td>\n",
       "      <td>Quarterly</td>\n",
       "    </tr>\n",
       "    <tr>\n",
       "      <th>3898</th>\n",
       "      <td>3899</td>\n",
       "      <td>44</td>\n",
       "      <td>Female</td>\n",
       "      <td>Shoes</td>\n",
       "      <td>Footwear</td>\n",
       "      <td>77</td>\n",
       "      <td>Minnesota</td>\n",
       "      <td>S</td>\n",
       "      <td>Brown</td>\n",
       "      <td>Summer</td>\n",
       "      <td>3.8</td>\n",
       "      <td>No</td>\n",
       "      <td>PayPal</td>\n",
       "      <td>Express</td>\n",
       "      <td>No</td>\n",
       "      <td>No</td>\n",
       "      <td>24</td>\n",
       "      <td>Venmo</td>\n",
       "      <td>Weekly</td>\n",
       "    </tr>\n",
       "    <tr>\n",
       "      <th>3899</th>\n",
       "      <td>3900</td>\n",
       "      <td>52</td>\n",
       "      <td>Female</td>\n",
       "      <td>Handbag</td>\n",
       "      <td>Accessories</td>\n",
       "      <td>81</td>\n",
       "      <td>California</td>\n",
       "      <td>M</td>\n",
       "      <td>Beige</td>\n",
       "      <td>Spring</td>\n",
       "      <td>3.1</td>\n",
       "      <td>No</td>\n",
       "      <td>Bank Transfer</td>\n",
       "      <td>Store Pickup</td>\n",
       "      <td>No</td>\n",
       "      <td>No</td>\n",
       "      <td>33</td>\n",
       "      <td>Venmo</td>\n",
       "      <td>Quarterly</td>\n",
       "    </tr>\n",
       "  </tbody>\n",
       "</table>\n",
       "<p>3900 rows × 19 columns</p>\n",
       "</div>"
      ],
      "text/plain": [
       "      Customer ID  Age  Gender Item Purchased     Category  \\\n",
       "0               1   55    Male         Blouse     Clothing   \n",
       "1               2   19    Male        Sweater     Clothing   \n",
       "2               3   50    Male          Jeans     Clothing   \n",
       "3               4   21    Male        Sandals     Footwear   \n",
       "4               5   45    Male         Blouse     Clothing   \n",
       "...           ...  ...     ...            ...          ...   \n",
       "3895         3896   40  Female         Hoodie     Clothing   \n",
       "3896         3897   52  Female       Backpack  Accessories   \n",
       "3897         3898   46  Female           Belt  Accessories   \n",
       "3898         3899   44  Female          Shoes     Footwear   \n",
       "3899         3900   52  Female        Handbag  Accessories   \n",
       "\n",
       "      Purchase Amount (USD)       Location Size      Color  Season  \\\n",
       "0                        53       Kentucky    L       Gray  Winter   \n",
       "1                        64          Maine    L     Maroon  Winter   \n",
       "2                        73  Massachusetts    S     Maroon  Spring   \n",
       "3                        90   Rhode Island    M     Maroon  Spring   \n",
       "4                        49         Oregon    M  Turquoise  Spring   \n",
       "...                     ...            ...  ...        ...     ...   \n",
       "3895                     28       Virginia    L  Turquoise  Summer   \n",
       "3896                     49           Iowa    L      White  Spring   \n",
       "3897                     33     New Jersey    L      Green  Spring   \n",
       "3898                     77      Minnesota    S      Brown  Summer   \n",
       "3899                     81     California    M      Beige  Spring   \n",
       "\n",
       "      Review Rating Subscription Status Payment Method   Shipping Type  \\\n",
       "0               3.1                 Yes    Credit Card         Express   \n",
       "1               3.1                 Yes  Bank Transfer         Express   \n",
       "2               3.1                 Yes           Cash   Free Shipping   \n",
       "3               3.5                 Yes         PayPal    Next Day Air   \n",
       "4               2.7                 Yes           Cash   Free Shipping   \n",
       "...             ...                 ...            ...             ...   \n",
       "3895            4.2                  No           Cash  2-Day Shipping   \n",
       "3896            4.5                  No         PayPal    Store Pickup   \n",
       "3897            2.9                  No    Credit Card        Standard   \n",
       "3898            3.8                  No         PayPal         Express   \n",
       "3899            3.1                  No  Bank Transfer    Store Pickup   \n",
       "\n",
       "     Discount Applied Promo Code Used  Previous Purchases  \\\n",
       "0                 Yes             Yes                  14   \n",
       "1                 Yes             Yes                   2   \n",
       "2                 Yes             Yes                  23   \n",
       "3                 Yes             Yes                  49   \n",
       "4                 Yes             Yes                  31   \n",
       "...               ...             ...                 ...   \n",
       "3895               No              No                  32   \n",
       "3896               No              No                  41   \n",
       "3897               No              No                  24   \n",
       "3898               No              No                  24   \n",
       "3899               No              No                  33   \n",
       "\n",
       "     Preferred Payment Method Frequency of Purchases  \n",
       "0                       Venmo            Fortnightly  \n",
       "1                        Cash            Fortnightly  \n",
       "2                 Credit Card                 Weekly  \n",
       "3                      PayPal                 Weekly  \n",
       "4                      PayPal               Annually  \n",
       "...                       ...                    ...  \n",
       "3895                    Venmo                 Weekly  \n",
       "3896            Bank Transfer              Bi-Weekly  \n",
       "3897                    Venmo              Quarterly  \n",
       "3898                    Venmo                 Weekly  \n",
       "3899                    Venmo              Quarterly  \n",
       "\n",
       "[3900 rows x 19 columns]"
      ]
     },
     "execution_count": 5,
     "metadata": {},
     "output_type": "execute_result"
    }
   ],
   "source": [
    "data"
   ]
  },
  {
   "cell_type": "markdown",
   "id": "c2e0ae24-2b18-48a5-bd1c-c429e7e55f52",
   "metadata": {},
   "source": [
    "# 1.WHAT IS THE SIZE OF THE DATA SET"
   ]
  },
  {
   "cell_type": "markdown",
   "id": "18f2da59-4408-41a9-8ba8-c70ea39139f7",
   "metadata": {},
   "source": [
    "## first convert the data into a data frame"
   ]
  },
  {
   "cell_type": "code",
   "execution_count": 11,
   "id": "d92050c2-372f-4bf7-af22-39c6fab1b107",
   "metadata": {},
   "outputs": [],
   "source": [
    "df=pd.DataFrame(data)"
   ]
  },
  {
   "cell_type": "markdown",
   "id": "24034698-dd3e-4260-9619-b72ad14965b1",
   "metadata": {},
   "source": [
    "### to check for rows and columns and rows asked we use .shape method"
   ]
  },
  {
   "cell_type": "code",
   "execution_count": 14,
   "id": "1ea88da1-d091-4a5d-ad64-7705b11c9dba",
   "metadata": {},
   "outputs": [
    {
     "data": {
      "text/plain": [
       "(3900, 19)"
      ]
     },
     "execution_count": 14,
     "metadata": {},
     "output_type": "execute_result"
    }
   ],
   "source": [
    "df.shape"
   ]
  },
  {
   "cell_type": "markdown",
   "id": "fe2ba29c-2895-41ac-a29a-b5e3309ef11b",
   "metadata": {},
   "source": [
    "### The first value is the observations while the secon is the features"
   ]
  },
  {
   "cell_type": "markdown",
   "id": "006282da-53d0-493c-a7d0-c9f9fccbbb63",
   "metadata": {},
   "source": [
    "#### so we have 3900 observations and 19 features "
   ]
  },
  {
   "cell_type": "markdown",
   "id": "d6f2fc8d-3862-4f66-8981-3b666e75687b",
   "metadata": {},
   "source": [
    "# 2.WHAT ARE THE MAIN FEATURES OF THE DATA SET?"
   ]
  },
  {
   "cell_type": "markdown",
   "id": "7eedbe37-bf12-4add-8ed0-c28012757bf2",
   "metadata": {},
   "source": [
    "### here we are required to calculate the number of columns in the data set, to do that we use .columns method to get the features"
   ]
  },
  {
   "cell_type": "code",
   "execution_count": 26,
   "id": "51815a31-b825-4759-9982-a92d1c9c49eb",
   "metadata": {},
   "outputs": [
    {
     "data": {
      "text/plain": [
       "Index(['Customer ID', 'Age', 'Gender', 'Item Purchased', 'Category',\n",
       "       'Purchase Amount (USD)', 'Location', 'Size', 'Color', 'Season',\n",
       "       'Review Rating', 'Subscription Status', 'Payment Method',\n",
       "       'Shipping Type', 'Discount Applied', 'Promo Code Used',\n",
       "       'Previous Purchases', 'Preferred Payment Method',\n",
       "       'Frequency of Purchases'],\n",
       "      dtype='object')"
      ]
     },
     "execution_count": 26,
     "metadata": {},
     "output_type": "execute_result"
    }
   ],
   "source": [
    "df.columns"
   ]
  },
  {
   "cell_type": "markdown",
   "id": "1c1647d5-040c-402b-b25f-debfdbca1274",
   "metadata": {},
   "source": [
    "# 3.HOW TO CALCULATE THE NUMBER OF CUSTOMERS IN THE DATA SET"
   ]
  },
  {
   "cell_type": "raw",
   "id": "e8118fd8-9bd1-4a4d-94d6-c8682568e69f",
   "metadata": {},
   "source": [
    "####  a)here we are going to calculate number of unique() customers in the data set"
   ]
  },
  {
   "cell_type": "code",
   "execution_count": 33,
   "id": "6d85af9e-b07b-4e31-81f6-e4c565e74e25",
   "metadata": {},
   "outputs": [
    {
     "data": {
      "text/plain": [
       "3900"
      ]
     },
     "execution_count": 33,
     "metadata": {},
     "output_type": "execute_result"
    }
   ],
   "source": [
    "df['Customer ID'].nunique()"
   ]
  },
  {
   "cell_type": "markdown",
   "id": "a4e24742-b1d6-4b59-9c1e-12ba26a9a3a5",
   "metadata": {},
   "source": [
    "#### alternatively"
   ]
  },
  {
   "cell_type": "code",
   "execution_count": 39,
   "id": "ca102ed3-c30c-4e65-b7a3-473eb114487b",
   "metadata": {},
   "outputs": [
    {
     "data": {
      "text/plain": [
       "3900"
      ]
     },
     "execution_count": 39,
     "metadata": {},
     "output_type": "execute_result"
    }
   ],
   "source": [
    "len(df)"
   ]
  },
  {
   "cell_type": "markdown",
   "id": "b775b6e3-94ce-4218-ab2f-39941bd8d1f7",
   "metadata": {},
   "source": [
    "# 4.CALCULATE THE TOTAL NUMBER OF TRANSACTIONS"
   ]
  },
  {
   "cell_type": "markdown",
   "id": "3bb4cec2-d4f1-42ab-9d30-ca5bad752fc8",
   "metadata": {},
   "source": [
    "### here we calculate the length of the data set"
   ]
  },
  {
   "cell_type": "code",
   "execution_count": 42,
   "id": "214c5254-74c5-434b-8306-2560f0635d29",
   "metadata": {},
   "outputs": [
    {
     "data": {
      "text/plain": [
       "3900"
      ]
     },
     "execution_count": 42,
     "metadata": {},
     "output_type": "execute_result"
    }
   ],
   "source": [
    "len(df)"
   ]
  },
  {
   "cell_type": "markdown",
   "id": "cec38441-1039-47a2-9e89-997f254559f5",
   "metadata": {},
   "source": [
    "# 5.AVERAGE PURCHASE AMOUNT"
   ]
  },
  {
   "cell_type": "markdown",
   "id": "9920f6dc-16aa-42ce-abf3-31de32960ae6",
   "metadata": {},
   "source": [
    "#### THIS IS THE TOTAL PURCHASE AMOUNT DIVIDED BY THE TOTAL TRANSACTIONS"
   ]
  },
  {
   "cell_type": "code",
   "execution_count": 53,
   "id": "1c29c429-7c91-47d3-a39f-f12d0c08e867",
   "metadata": {},
   "outputs": [],
   "source": [
    "average_purchase=df[\"Purchase Amount (USD)\"].sum()/len(df)"
   ]
  },
  {
   "cell_type": "markdown",
   "id": "3630a1c8-6684-4cc1-aa8e-561e4c304c33",
   "metadata": {},
   "source": [
    "#### alternatively we use . mean method"
   ]
  },
  {
   "cell_type": "code",
   "execution_count": 57,
   "id": "dcb1e544-2747-4ac8-bc24-6379e60e0eac",
   "metadata": {},
   "outputs": [],
   "source": [
    "mean_purchase=df[\"Purchase Amount (USD)\"].mean()"
   ]
  },
  {
   "cell_type": "code",
   "execution_count": 59,
   "id": "fff945f3-a9a3-4813-a75c-cb5eaad24016",
   "metadata": {},
   "outputs": [
    {
     "data": {
      "text/plain": [
       "59.76435897435898"
      ]
     },
     "execution_count": 59,
     "metadata": {},
     "output_type": "execute_result"
    }
   ],
   "source": [
    "mean_purchase"
   ]
  },
  {
   "cell_type": "markdown",
   "id": "e503c589-05b8-40c8-ae3f-1f83521460d9",
   "metadata": {},
   "source": [
    "# 6.WHAT IS THE MINIMUM AND MAXIMUM PURCHASE AMOUNT"
   ]
  },
  {
   "cell_type": "markdown",
   "id": "f5735f36-4755-4bce-85f5-e896228347fa",
   "metadata": {},
   "source": [
    "#### HERE WE ARE REQUIRED TO FIND THE MINIMUM AND MAXIMUM AMOUNT THAT IS PURCHASED BY THE CUSTOMERS WE USE .min() and .max()"
   ]
  },
  {
   "cell_type": "code",
   "execution_count": 63,
   "id": "66d19594-b34d-455e-827f-bc2648264e69",
   "metadata": {},
   "outputs": [],
   "source": [
    "min_purchase=df[\"Purchase Amount (USD)\"].min()"
   ]
  },
  {
   "cell_type": "code",
   "execution_count": 65,
   "id": "734ef30e-e2a7-4c61-992c-e6ee939630e2",
   "metadata": {},
   "outputs": [
    {
     "data": {
      "text/plain": [
       "20"
      ]
     },
     "execution_count": 65,
     "metadata": {},
     "output_type": "execute_result"
    }
   ],
   "source": [
    "min_purchase"
   ]
  },
  {
   "cell_type": "code",
   "execution_count": 69,
   "id": "f4c1b9bd-7b10-4331-ad55-91ca7f286da3",
   "metadata": {},
   "outputs": [],
   "source": [
    "max_purchase=df[\"Purchase Amount (USD)\"].max()"
   ]
  },
  {
   "cell_type": "code",
   "execution_count": 71,
   "id": "105fee25-008e-4cca-b364-211e4e9435ca",
   "metadata": {},
   "outputs": [
    {
     "data": {
      "text/plain": [
       "100"
      ]
     },
     "execution_count": 71,
     "metadata": {},
     "output_type": "execute_result"
    }
   ],
   "source": [
    "max_purchase"
   ]
  },
  {
   "cell_type": "markdown",
   "id": "9e0af7a4-bc0d-428c-92b9-ef25b9a7ca60",
   "metadata": {},
   "source": [
    "#### alternativerly we can sort the  data set"
   ]
  },
  {
   "cell_type": "code",
   "execution_count": 76,
   "id": "5096befe-891e-448c-b7d4-f24e83c756e2",
   "metadata": {},
   "outputs": [],
   "source": [
    "sorted_min_value=df[\"Purchase Amount (USD)\"].sort_values().head()"
   ]
  },
  {
   "cell_type": "code",
   "execution_count": 78,
   "id": "41349417-5005-426d-ab12-f286e249d1f2",
   "metadata": {},
   "outputs": [
    {
     "data": {
      "text/plain": [
       "2696    20\n",
       "3653    20\n",
       "3083    20\n",
       "2652    20\n",
       "1795    20\n",
       "Name: Purchase Amount (USD), dtype: int64"
      ]
     },
     "execution_count": 78,
     "metadata": {},
     "output_type": "execute_result"
    }
   ],
   "source": [
    "sorted_min_value"
   ]
  },
  {
   "cell_type": "code",
   "execution_count": 80,
   "id": "4301fb37-bc3e-4166-839f-9debc68f2629",
   "metadata": {},
   "outputs": [
    {
     "data": {
      "text/plain": [
       "243     100\n",
       "248     100\n",
       "3265    100\n",
       "581     100\n",
       "2285    100\n",
       "Name: Purchase Amount (USD), dtype: int64"
      ]
     },
     "execution_count": 80,
     "metadata": {},
     "output_type": "execute_result"
    }
   ],
   "source": [
    "sorted_max_value=df[\"Purchase Amount (USD)\"].sort_values().tail()\n",
    "sorted_max_value"
   ]
  },
  {
   "cell_type": "markdown",
   "id": "e33b1028-da5e-4648-a42d-e158356b2142",
   "metadata": {},
   "source": [
    "#### the above is how we can get range of min and max purchased"
   ]
  },
  {
   "cell_type": "markdown",
   "id": "15215ea8-707a-4b0f-82be-deffbe80d3af",
   "metadata": {},
   "source": [
    "# 7.WHAT ARE THE UNIQUE CATEGORIES OF ITEMS PURCHASED?"
   ]
  },
  {
   "cell_type": "code",
   "execution_count": 86,
   "id": "1fda6e00-546c-441d-bb34-ea9505f71622",
   "metadata": {},
   "outputs": [
    {
     "data": {
      "text/plain": [
       "array(['Blouse', 'Sweater', 'Jeans', 'Sandals', 'Sneakers', 'Shirt',\n",
       "       'Shorts', 'Coat', 'Handbag', 'Shoes', 'Dress', 'Skirt',\n",
       "       'Sunglasses', 'Pants', 'Jacket', 'Hoodie', 'Jewelry', 'T-shirt',\n",
       "       'Scarf', 'Hat', 'Socks', 'Backpack', 'Belt', 'Boots', 'Gloves'],\n",
       "      dtype=object)"
      ]
     },
     "execution_count": 86,
     "metadata": {},
     "output_type": "execute_result"
    }
   ],
   "source": [
    "df['Item Purchased'].unique()"
   ]
  },
  {
   "cell_type": "markdown",
   "id": "bb103320-e07d-4b8f-acd8-0dbdeaacf7e5",
   "metadata": {},
   "source": [
    "# 8.HOW MANY PRODUCTS ARE PURCHASED IN EACH CATEGORY?"
   ]
  },
  {
   "cell_type": "markdown",
   "id": "e843a8ba-081b-43bd-8811-c22331580b2b",
   "metadata": {},
   "source": [
    "#### This is how to get the number of products purchased based on value_counts"
   ]
  },
  {
   "cell_type": "code",
   "execution_count": 106,
   "id": "f145d653-cbd1-4193-b7d6-0573e5dde120",
   "metadata": {},
   "outputs": [
    {
     "data": {
      "text/plain": [
       "Category\n",
       "Clothing       1737\n",
       "Accessories    1240\n",
       "Footwear        599\n",
       "Outerwear       324\n",
       "Name: count, dtype: int64"
      ]
     },
     "execution_count": 106,
     "metadata": {},
     "output_type": "execute_result"
    }
   ],
   "source": [
    "category_purchased=df['Category'].value_counts()\n",
    "category_purchased"
   ]
  },
  {
   "cell_type": "markdown",
   "id": "c94d54d3-c7d3-4ab7-90a6-3e1d6e24145a",
   "metadata": {},
   "source": [
    "# 9.WHAT IS THE MOST FREQUENTLY PURCHASED ITEM?"
   ]
  },
  {
   "cell_type": "markdown",
   "id": "3c3a9844-c4cc-4b86-a88a-8733344bd65f",
   "metadata": {},
   "source": [
    "### this is how we can solve this "
   ]
  },
  {
   "cell_type": "code",
   "execution_count": null,
   "id": "ab9fbe87-41bb-4186-8419-3e2b5b401e71",
   "metadata": {},
   "outputs": [],
   "source": []
  },
  {
   "cell_type": "markdown",
   "id": "108d9880-fe90-4c06-9bf9-91286885e202",
   "metadata": {},
   "source": [
    "## alternatively"
   ]
  },
  {
   "cell_type": "code",
   "execution_count": 152,
   "id": "7bd922e2-e0e0-4253-ae8b-c21bcfb2c055",
   "metadata": {},
   "outputs": [
    {
     "data": {
      "text/plain": [
       "'Blouse'"
      ]
     },
     "execution_count": 152,
     "metadata": {},
     "output_type": "execute_result"
    }
   ],
   "source": [
    "df['Item Purchased'].mode()[0]\n",
    "# this is usually sed whe we have multiple items in the same frequency"
   ]
  },
  {
   "cell_type": "code",
   "execution_count": 150,
   "id": "dd78f8b4-406f-4c87-b025-55e39aff7666",
   "metadata": {},
   "outputs": [
    {
     "name": "stdout",
     "output_type": "stream",
     "text": [
      "Most Frequently Purchased Item:\n",
      " Item Purchased\n",
      "Jewelry    4943\n",
      "Name: Previous Purchases, dtype: int64\n"
     ]
    }
   ],
   "source": []
  },
  {
   "cell_type": "markdown",
   "id": "bfec5b2c-4c8c-4f48-ba35-d35a6b408b03",
   "metadata": {},
   "source": [
    "# 10.WHAT IS THE LIST FREQUENTLY PURCHASED ITEM?"
   ]
  },
  {
   "cell_type": "raw",
   "id": "c67c2b37-bd8f-41c6-962e-edc6196d30d7",
   "metadata": {},
   "source": []
  },
  {
   "cell_type": "code",
   "execution_count": 169,
   "id": "c343e106-1240-4ab2-9492-44ac17230a99",
   "metadata": {},
   "outputs": [],
   "source": [
    "least_frequent=df['Item Purchased'].value_counts().idxmin()"
   ]
  },
  {
   "cell_type": "code",
   "execution_count": 171,
   "id": "7395c950-68f4-4594-a935-d253b0b393c7",
   "metadata": {},
   "outputs": [
    {
     "data": {
      "text/plain": [
       "'Jeans'"
      ]
     },
     "execution_count": 171,
     "metadata": {},
     "output_type": "execute_result"
    }
   ],
   "source": [
    "least_frequent"
   ]
  },
  {
   "cell_type": "markdown",
   "id": "681e245f-7fa9-4593-8ec0-812a199a272e",
   "metadata": {},
   "source": [
    "# 11 how many unique locations are present in the data "
   ]
  },
  {
   "cell_type": "markdown",
   "id": "c4af6562-2b2d-48a5-b733-ce444c100baf",
   "metadata": {},
   "source": [
    "#### this is how we calculate number of unique location in the data set .unique()"
   ]
  },
  {
   "cell_type": "code",
   "execution_count": 181,
   "id": "c40b158c-27ae-47bb-9faf-0a7dd03a7687",
   "metadata": {},
   "outputs": [
    {
     "data": {
      "text/plain": [
       "50"
      ]
     },
     "execution_count": 181,
     "metadata": {},
     "output_type": "execute_result"
    }
   ],
   "source": [
    "number_unique _locations=df[\"Location\"].nunique()"
   ]
  },
  {
   "cell_type": "markdown",
   "id": "19a46cad-3e6a-4da3-8873-596d2f7f0b33",
   "metadata": {},
   "source": [
    "# 12 .WHICH LOCATION HAS HIGHEST NUMBER OF TRANSACTIONS?"
   ]
  },
  {
   "cell_type": "code",
   "execution_count": 190,
   "id": "92a70f09-dd9b-416c-91ad-58cdc9d17614",
   "metadata": {},
   "outputs": [
    {
     "data": {
      "text/plain": [
       "'Montana'"
      ]
     },
     "execution_count": 190,
     "metadata": {},
     "output_type": "execute_result"
    }
   ],
   "source": [
    "highest_location_trans=df[\"Location\"].mode()[0]\n",
    "highest_location_trans"
   ]
  },
  {
   "cell_type": "markdown",
   "id": "848bf752-9eaa-4a28-ba6f-db2c20deeeb5",
   "metadata": {},
   "source": [
    "### alternatively "
   ]
  },
  {
   "cell_type": "code",
   "execution_count": 195,
   "id": "6bb69618-89da-423c-a8f0-5831f9fedca9",
   "metadata": {},
   "outputs": [
    {
     "data": {
      "text/plain": [
       "'Montana'"
      ]
     },
     "execution_count": 195,
     "metadata": {},
     "output_type": "execute_result"
    }
   ],
   "source": [
    "highest_loc_trans=df['Location'].value_counts().idxmax()\n",
    "highest_loc_trans"
   ]
  },
  {
   "cell_type": "markdown",
   "id": "89effcbc-24c4-4701-a9bd-3632acd62646",
   "metadata": {},
   "source": [
    "### all the above methods are useful in the context of identifying value counts of any items"
   ]
  },
  {
   "cell_type": "code",
   "execution_count": null,
   "id": "42c7d1f1-6b8b-4fe1-8f10-62002ec6be88",
   "metadata": {},
   "outputs": [],
   "source": []
  }
 ],
 "metadata": {
  "kernelspec": {
   "display_name": "Python 3 (ipykernel)",
   "language": "python",
   "name": "python3"
  },
  "language_info": {
   "codemirror_mode": {
    "name": "ipython",
    "version": 3
   },
   "file_extension": ".py",
   "mimetype": "text/x-python",
   "name": "python",
   "nbconvert_exporter": "python",
   "pygments_lexer": "ipython3",
   "version": "3.12.4"
  }
 },
 "nbformat": 4,
 "nbformat_minor": 5
}
